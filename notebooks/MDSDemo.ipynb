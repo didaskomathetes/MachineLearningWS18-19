{
 "cells": [
  {
   "cell_type": "code",
   "execution_count": 2,
   "metadata": {},
   "outputs": [],
   "source": [
    "# title: multi-dimensional scaling in python\n",
    "# author: Stefan Harmeling, Tobias Uelwer\n",
    "\n",
    "import numpy as np\n",
    "import matplotlib.pyplot as plt"
   ]
  },
  {
   "cell_type": "code",
   "execution_count": 4,
   "metadata": {},
   "outputs": [],
   "source": [
    "cities = [\"Düsseldorf\", \"Hamburg\", \"Berlin\", \"München\", \"Frankfurt\"]\n",
    "X = np.array([[51, 6], \n",
    "              [53, 9], \n",
    "              [52, 13], \n",
    "              [48, 11], \n",
    "              [50, 8]])"
   ]
  },
  {
   "cell_type": "code",
   "execution_count": 5,
   "metadata": {},
   "outputs": [
    {
     "data": {
      "image/png": "[encoded data removed]",
      "text/plain": [
       "<Figure size 432x288 with 1 Axes>"
      ]
     },
     "metadata": {
      "needs_background": "light"
     },
     "output_type": "display_data"
    }
   ],
   "source": [
    "fig, ax = plt.subplots()\n",
    "ax.scatter(X[:,1], X[:,0])\n",
    "for i in range(len(cities)):\n",
    "    ax.annotate(cities[i], (X[i,1],X[i,0]))"
   ]
  },
  {
   "cell_type": "code",
   "execution_count": 6,
   "metadata": {},
   "outputs": [
    {
     "data": {
      "text/plain": [
       "array([[0.        , 3.60555128, 7.07106781, 5.83095189, 2.23606798],\n",
       "       [3.60555128, 0.        , 4.12310563, 5.38516481, 3.16227766],\n",
       "       [7.07106781, 4.12310563, 0.        , 4.47213595, 5.38516481],\n",
       "       [5.83095189, 5.38516481, 4.47213595, 0.        , 3.60555128],\n",
       "       [2.23606798, 3.16227766, 5.38516481, 3.60555128, 0.        ]])"
      ]
     },
     "execution_count": 6,
     "metadata": {},
     "output_type": "execute_result"
    }
   ],
   "source": [
    "from scipy.spatial.distance import cdist\n",
    "D = cdist(X,X)\n",
    "D"
   ]
  },
  {
   "cell_type": "code",
   "execution_count": 7,
   "metadata": {},
   "outputs": [],
   "source": [
    "def mds(A, d = 2):\n",
    "    n = len(A)\n",
    "    D = A**2\n",
    "    \n",
    "    # calculate gram matrix\n",
    "    # G = -0.5 *(H @ D @ H)\n",
    "    G = D - D.mean(axis=0)\n",
    "    G = G - G.mean(axis=1)\n",
    "    G = -0.5*G\n",
    "    \n",
    "    # make G symmetric\n",
    "    G = (G+G.T)/2\n",
    "    \n",
    "    # eigenvalue decomposition\n",
    "    (Lambda, V) = np.linalg.eig(G)\n",
    "    \n",
    "    # sort eigenvalues and eigenvectors\n",
    "    pairs = sorted(zip(Lambda,V.T),\n",
    "                   key=lambda x: x[0].real, reverse=True)\n",
    "    \n",
    "    # select the first d eigenvectors \n",
    "    Lambda = [d[0] for d in pairs[0:d]]\n",
    "    V = np.array([d[1] for d in pairs[0:d]])\n",
    "    \n",
    "    # reconstruct data\n",
    "    R = np.diag(np.sqrt(Lambda))@V\n",
    "    return R.T"
   ]
  },
  {
   "cell_type": "code",
   "execution_count": 8,
   "metadata": {},
   "outputs": [
    {
     "data": {
      "text/plain": [
       "True"
      ]
     },
     "execution_count": 8,
     "metadata": {},
     "output_type": "execute_result"
    }
   ],
   "source": [
    "X_reconstructed = mds(D, 2)\n",
    "np.allclose(cdist(X_reconstructed, X_reconstructed), D)"
   ]
  },
  {
   "cell_type": "code",
   "execution_count": 9,
   "metadata": {},
   "outputs": [
    {
     "data": {
      "image/png": "[encoded data removed]",
      "text/plain": [
       "<Figure size 432x288 with 1 Axes>"
      ]
     },
     "metadata": {
      "needs_background": "light"
     },
     "output_type": "display_data"
    }
   ],
   "source": [
    "fig, ax = plt.subplots()\n",
    "ax.scatter(X_reconstructed[:,0], \n",
    "           X_reconstructed[:,1])\n",
    "for i in range(len(cities)):\n",
    "    ax.annotate(cities[i], (X_reconstructed[i,0],\n",
    "                            X_reconstructed[i,1]))"
   ]
  },
  {
   "cell_type": "code",
   "execution_count": null,
   "metadata": {},
   "outputs": [],
   "source": []
  },
  {
   "cell_type": "code",
   "execution_count": null,
   "metadata": {},
   "outputs": [],
   "source": []
  },
  {
   "cell_type": "code",
   "execution_count": null,
   "metadata": {},
   "outputs": [],
   "source": []
  },
  {
   "cell_type": "code",
   "execution_count": 10,
   "metadata": {},
   "outputs": [
    {
     "name": "stdout",
     "output_type": "stream",
     "text": [
      "[-0.00716526  0.00109886  0.00714408  0.00739446 -0.00342582]\n"
     ]
    }
   ],
   "source": [
    "# Why we do not use the centering matrix in practice!\n",
    "n = 20000\n",
    "X = np.random.randn(n, 5)\n",
    "print(X.mean(axis=0))"
   ]
  },
  {
   "cell_type": "code",
   "execution_count": 11,
   "metadata": {},
   "outputs": [
    {
     "name": "stdout",
     "output_type": "stream",
     "text": [
      "[ 1.69392278e-17  1.12243548e-17  1.07192033e-16  9.98090499e-18\n",
      " -2.82107671e-17]\n",
      "0.004 seconds\n"
     ]
    }
   ],
   "source": [
    "import time\n",
    "start_time = time.time()\n",
    "X_centered = X-X.mean(axis=0)\n",
    "print(X_centered.mean(axis=0))\n",
    "print(\"%s seconds\" % np.round(time.time() - start_time, 4))"
   ]
  },
  {
   "cell_type": "code",
   "execution_count": 12,
   "metadata": {},
   "outputs": [
    {
     "name": "stdout",
     "output_type": "stream",
     "text": [
      "[ 1.33126843e-16 -6.51756427e-17  4.12114787e-17  2.50799381e-17\n",
      "  7.04825087e-17]\n",
      "8.7205 seconds\n"
     ]
    }
   ],
   "source": [
    "start_time = time.time()\n",
    "H = np.eye(len(X))-1/len(X)*(np.ones((len(X), len(X))))\n",
    "X_centered = np.dot(H,X)\n",
    "print(X_centered.mean(axis=0))\n",
    "print(\"%s seconds\" % np.round(time.time() - start_time, 4))"
   ]
  },
  {
   "cell_type": "code",
   "execution_count": null,
   "metadata": {},
   "outputs": [],
   "source": []
  }
 ],
 "metadata": {
  "kernelspec": {
   "display_name": "Python 3",
   "language": "python",
   "name": "python3"
  },
  "language_info": {
   "codemirror_mode": {
    "name": "ipython",
    "version": 3
   },
   "file_extension": ".py",
   "mimetype": "text/x-python",
   "name": "python",
   "nbconvert_exporter": "python",
   "pygments_lexer": "ipython3",
   "version": "3.6.5"
  }
 },
 "nbformat": 4,
 "nbformat_minor": 2
}
